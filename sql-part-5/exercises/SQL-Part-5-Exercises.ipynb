{
 "cells": [
  {
   "cell_type": "markdown",
   "metadata": {},
   "source": [
    "# Exercises: Creating, Updating, and Destroying Objects\n",
    "\n",
    "For the exercises, you will be working with objects and data you create. Before opening this notebook, make sure that you have set up the new connection to the server and that you have located the database and your schema.\n",
    "\n",
    "## Object Creation\n",
    "\n",
    "Before coding, think of three things you want to make. These could be coding projects, new recipes, or planned projects for a woodworking hobby. Brainstorm the appropriate column names and data types as well.\n",
    "\n",
    "Create a table under your schema called `planned_makes`."
   ]
  },
  {
   "cell_type": "code",
   "execution_count": null,
   "metadata": {
    "vscode": {
     "languageId": "sql"
    }
   },
   "outputs": [],
   "source": [
    "CREATE TABLE Sep2025JunkDB.sashea_gaston.DinnerIdeas (\n",
    "    recipe_id INT IDENTITY(1,1) PRIMARY KEY,\n",
    "    recipe_name VARCHAR(255),\n",
    "    prep_time INT,\n",
    "    cook_time INT\n",
    ");"
   ]
  },
  {
   "cell_type": "markdown",
   "metadata": {},
   "source": [
    "Add three rows to your table that are your planned makes."
   ]
  },
  {
   "cell_type": "code",
   "execution_count": null,
   "metadata": {
    "vscode": {
     "languageId": "sql"
    }
   },
   "outputs": [],
   "source": [
    "INSERT INTO Sep2025JunkDB.sashea_gaston.DinnerIdeas (recipe_name, prep_time, cook_time)\n",
    "VALUES('Lasagna', 15, 90)\n",
    "\n",
    "INSERT INTO Sep2025JunkDB.sashea_gaston.DinnerIdeas (recipe_name, prep_time, cook_time)\n",
    "VALUES('Shrimp Fettuccine Alfredo', 15, 10)\n",
    "\n",
    "INSERT INTO Sep2025JunkDB.sashea_gaston.DinnerIdeas (recipe_name, prep_time, cook_time)\n",
    "VALUES('Sloppy Joes', 15, 35)"
   ]
  },
  {
   "cell_type": "markdown",
   "metadata": {},
   "source": [
    "## Update a Row\n",
    "\n",
    "Change different values in one of your three rows."
   ]
  },
  {
   "cell_type": "code",
   "execution_count": null,
   "metadata": {
    "vscode": {
     "languageId": "sql"
    }
   },
   "outputs": [],
   "source": [
    "\n",
    "UPDATE Sep2025JunkDB.sashea_gaston.DinnerIdeas\n",
    "SET cook_time = 15\n",
    "WHERE recipe_id = 2;"
   ]
  },
  {
   "cell_type": "markdown",
   "metadata": {},
   "source": [
    "## Delete a Row\n",
    "\n",
    "Delete one of the rows from your table."
   ]
  },
  {
   "cell_type": "code",
   "execution_count": null,
   "metadata": {
    "vscode": {
     "languageId": "sql"
    }
   },
   "outputs": [],
   "source": [
    "DELETE FROM Sep2025JunkDB.sashea_gaston.DinnerIdeas\n",
    "WHERE recipe_id = 3;"
   ]
  },
  {
   "cell_type": "markdown",
   "metadata": {},
   "source": [
    "## Drop the Table\n",
    "\n",
    "While this has been fun, it is time to drop the table!"
   ]
  },
  {
   "cell_type": "code",
   "execution_count": null,
   "metadata": {
    "vscode": {
     "languageId": "sql"
    }
   },
   "outputs": [],
   "source": [
    "DROP TABLE Sep2025JunkDB.sashea_gaston.DinnerIdeas\n"
   ]
  }
 ],
 "metadata": {
  "language_info": {
   "name": "python"
  }
 },
 "nbformat": 4,
 "nbformat_minor": 2
}
